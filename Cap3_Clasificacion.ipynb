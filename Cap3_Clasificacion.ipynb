{
 "cells": [
  {
   "cell_type": "markdown",
   "id": "51bc7213",
   "metadata": {},
   "source": [
    "# Capítulo 3. Clasificación\n",
    "\n",
    "Proyecto de clasificación para diagnosticar medicamentos basándose en las características de los pacientes."
   ]
  },
  {
   "cell_type": "code",
   "execution_count": null,
   "id": "57ce95ef",
   "metadata": {},
   "outputs": [],
   "source": [
    "import pandas as pd\n",
    "import numpy as np\n",
    "import matplotlib.pyplot as plt\n",
    "import seaborn as sns\n",
    "\n",
    "from sklearn.model_selection import train_test_split\n",
    "from sklearn.preprocessing import LabelEncoder\n",
    "from sklearn.tree import DecisionTreeClassifier\n",
    "from sklearn.metrics import classification_report, confusion_matrix, accuracy_score\n"
   ]
  },
  {
   "cell_type": "code",
   "execution_count": null,
   "id": "e2fad109",
   "metadata": {},
   "outputs": [],
   "source": [
    "# Cargar la base de datos\n",
    "df = pd.read_csv(\"drug200.csv\")\n",
    "df.head()"
   ]
  },
  {
   "cell_type": "code",
   "execution_count": null,
   "id": "b0d06bbb",
   "metadata": {},
   "outputs": [],
   "source": [
    "# Información general de los datos\n",
    "df.info()\n"
   ]
  },
  {
   "cell_type": "code",
   "execution_count": null,
   "id": "b1e018a0",
   "metadata": {},
   "outputs": [],
   "source": [
    "# Distribución de la variable objetivo\n",
    "df['Drug'].value_counts().plot(kind='bar', title='Distribución de los medicamentos')\n",
    "plt.xlabel('Medicamento')\n",
    "plt.ylabel('Cantidad')\n",
    "plt.show()\n"
   ]
  },
  {
   "cell_type": "code",
   "execution_count": null,
   "id": "718c44d5",
   "metadata": {},
   "outputs": [],
   "source": [
    "# Codificar variables categóricas\n",
    "le_sex = LabelEncoder()\n",
    "le_bp = LabelEncoder()\n",
    "le_chol = LabelEncoder()\n",
    "le_drug = LabelEncoder()\n",
    "\n",
    "df['Sex'] = le_sex.fit_transform(df['Sex'])\n",
    "df['BP'] = le_bp.fit_transform(df['BP'])\n",
    "df['Cholesterol'] = le_chol.fit_transform(df['Cholesterol'])\n",
    "df['Drug'] = le_drug.fit_transform(df['Drug'])  # también la variable objetivo para usarla como y\n",
    "\n",
    "df.head()\n"
   ]
  },
  {
   "cell_type": "code",
   "execution_count": null,
   "id": "1a833e5b",
   "metadata": {},
   "outputs": [],
   "source": [
    "# Separar características y variable objetivo\n",
    "X = df.drop('Drug', axis=1)\n",
    "y = df['Drug']\n",
    "\n",
    "# Dividir en conjunto de entrenamiento y prueba\n",
    "X_train, X_test, y_train, y_test = train_test_split(X, y, test_size=0.2, random_state=42)\n",
    "\n",
    "X_train.shape, X_test.shape\n"
   ]
  },
  {
   "cell_type": "code",
   "execution_count": null,
   "id": "ece75586",
   "metadata": {},
   "outputs": [],
   "source": [
    "# Crear y entrenar el modelo\n",
    "model = DecisionTreeClassifier(criterion='entropy', random_state=42)\n",
    "model.fit(X_train, y_train)\n"
   ]
  },
  {
   "cell_type": "code",
   "execution_count": null,
   "id": "0c32ecb1",
   "metadata": {},
   "outputs": [],
   "source": [
    "# Realizar predicciones\n",
    "y_pred = model.predict(X_test)\n",
    "\n",
    "# Evaluación del modelo\n",
    "print(\"Accuracy:\", accuracy_score(y_test, y_pred))\n",
    "print(\"\\nClassification Report:\\n\", classification_report(y_test, y_pred))\n",
    "print(\"\\nConfusion Matrix:\\n\", confusion_matrix(y_test, y_pred))\n"
   ]
  },
  {
   "cell_type": "markdown",
   "id": "700ac106",
   "metadata": {},
   "source": [
    "### Conclusiones\n",
    "\n",
    "- Se entrenó un modelo de clasificación con un árbol de decisión para predecir el medicamento adecuado.\n",
    "- Se utilizó la base de datos `drug200.csv` y se codificaron las variables categóricas.\n",
    "- La precisión obtenida muestra un buen desempeño general.\n",
    "- Se puede mejorar el modelo utilizando validación cruzada o probando otros clasificadores como KNN, SVM o RandomForest.\n"
   ]
  }
 ],
 "metadata": {},
 "nbformat": 4,
 "nbformat_minor": 5
}
